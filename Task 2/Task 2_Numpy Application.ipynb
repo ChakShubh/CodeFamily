{
 "cells": [
  {
   "cell_type": "markdown",
   "metadata": {},
   "source": [
    "## TASK - Applications of Numpy"
   ]
  },
  {
   "cell_type": "markdown",
   "metadata": {},
   "source": [
    "### Import Necessary Functions"
   ]
  },
  {
   "cell_type": "code",
   "execution_count": 1,
   "metadata": {},
   "outputs": [],
   "source": [
    "#Import Numpy\n",
    "\n",
    "import numpy as np"
   ]
  },
  {
   "cell_type": "markdown",
   "metadata": {},
   "source": [
    "### Numpy Array Initialization"
   ]
  },
  {
   "cell_type": "code",
   "execution_count": 2,
   "metadata": {},
   "outputs": [
    {
     "name": "stdout",
     "output_type": "stream",
     "text": [
      "Numpy Array: \n",
      " [15 22 30 46 57 62 71 88 94]\n"
     ]
    }
   ],
   "source": [
    "#Initializing a Numpy Array\n",
    "\n",
    "arr = np.array([15,22,30,46,57,62,71,88,94])\n",
    "print(\"Numpy Array: \\n\", arr)"
   ]
  },
  {
   "cell_type": "markdown",
   "metadata": {},
   "source": [
    "### Basic Operations"
   ]
  },
  {
   "cell_type": "code",
   "execution_count": 3,
   "metadata": {},
   "outputs": [
    {
     "name": "stdout",
     "output_type": "stream",
     "text": [
      "Shape of the Numpy Array:  (9,)\n",
      "\n",
      "Dimension of the Numpy Array:  1\n"
     ]
    }
   ],
   "source": [
    "print(\"Shape of the Numpy Array: \", arr.shape)\n",
    "print()\n",
    "print(\"Dimension of the Numpy Array: \", arr.ndim)"
   ]
  },
  {
   "cell_type": "markdown",
   "metadata": {},
   "source": [
    "### Indexing"
   ]
  },
  {
   "cell_type": "code",
   "execution_count": 4,
   "metadata": {},
   "outputs": [
    {
     "name": "stdout",
     "output_type": "stream",
     "text": [
      "Indexing from Left to Right of the Array:  15 62\n"
     ]
    }
   ],
   "source": [
    "#Positive Indexing\n",
    "print(\"Indexing from Left to Right of the Array: \", arr[0], arr[5])"
   ]
  },
  {
   "cell_type": "code",
   "execution_count": 5,
   "metadata": {},
   "outputs": [
    {
     "name": "stdout",
     "output_type": "stream",
     "text": [
      "Negative Indexing:  94 30\n"
     ]
    }
   ],
   "source": [
    "#Negative Indexing\n",
    "print(\"Negative Indexing: \", arr[-1], arr[-7])"
   ]
  },
  {
   "cell_type": "code",
   "execution_count": 6,
   "metadata": {},
   "outputs": [
    {
     "name": "stdout",
     "output_type": "stream",
     "text": [
      "Indexing Mathematical Operations (Addition, Subtraction, Multiplication, Division):  45 27 5016 1.5161290322580645\n"
     ]
    }
   ],
   "source": [
    "#Mathematical Operations on Indices\n",
    "print(\"Indexing Mathematical Operations (Addition, Subtraction, Multiplication, Division): \", arr[0]+arr[2], arr[4]-arr[2], arr[4]*arr[7], arr[8]/arr[5])"
   ]
  },
  {
   "cell_type": "markdown",
   "metadata": {},
   "source": [
    "### Slicing"
   ]
  },
  {
   "cell_type": "code",
   "execution_count": 7,
   "metadata": {},
   "outputs": [
    {
     "name": "stdout",
     "output_type": "stream",
     "text": [
      "Slicing:  [30 46 57 62]\n"
     ]
    }
   ],
   "source": [
    "# Slicing\n",
    "print(\"Slicing: \", arr[2:6])"
   ]
  },
  {
   "cell_type": "code",
   "execution_count": 8,
   "metadata": {},
   "outputs": [
    {
     "name": "stdout",
     "output_type": "stream",
     "text": [
      "Slicing:  [94 71 57 30 15]\n"
     ]
    }
   ],
   "source": [
    "# Slicing\n",
    "print(\"Slicing: \", arr[::-2])"
   ]
  },
  {
   "cell_type": "code",
   "execution_count": 9,
   "metadata": {},
   "outputs": [
    {
     "name": "stdout",
     "output_type": "stream",
     "text": [
      "Slicing:  [15 22 30 46 57 62 71]\n"
     ]
    }
   ],
   "source": [
    "# Slicing\n",
    "print(\"Slicing: \", arr[:-2])"
   ]
  },
  {
   "cell_type": "markdown",
   "metadata": {},
   "source": [
    "### Reshaping the Array"
   ]
  },
  {
   "cell_type": "code",
   "execution_count": 10,
   "metadata": {},
   "outputs": [
    {
     "name": "stdout",
     "output_type": "stream",
     "text": [
      "Reshaped Array: [[15 22 30]\n",
      " [46 57 62]\n",
      " [71 88 94]]\n"
     ]
    }
   ],
   "source": [
    "arr1 = arr.reshape(3, 3)\n",
    "print(\"Reshaped Array:\", arr1)"
   ]
  },
  {
   "cell_type": "markdown",
   "metadata": {},
   "source": [
    "### Iterating over the Numpy Array"
   ]
  },
  {
   "cell_type": "code",
   "execution_count": 11,
   "metadata": {},
   "outputs": [
    {
     "name": "stdout",
     "output_type": "stream",
     "text": [
      "[15 22 30]\n",
      "[46 57 62]\n",
      "[71 88 94]\n"
     ]
    }
   ],
   "source": [
    "for i in arr1:\n",
    "  print(i)"
   ]
  }
 ],
 "metadata": {
  "kernelspec": {
   "display_name": "Python 3 (ipykernel)",
   "language": "python",
   "name": "python3"
  },
  "language_info": {
   "codemirror_mode": {
    "name": "ipython",
    "version": 3
   },
   "file_extension": ".py",
   "mimetype": "text/x-python",
   "name": "python",
   "nbconvert_exporter": "python",
   "pygments_lexer": "ipython3",
   "version": "3.9.7"
  }
 },
 "nbformat": 4,
 "nbformat_minor": 4
}
